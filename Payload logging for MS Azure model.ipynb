{
    "nbformat_minor": 1, 
    "cells": [
        {
            "source": "# IBM AI OpenScale & Microsoft Azure Machine Learning\n\n<img src=\"https://console-lon02-black.cdn.stage1.s-bluemix.net/catalog/proxy-image/service-icon?url=https%3A%2F%2Faiopenscale-broker-ys1prod.stage1.mybluemix.net%2Fpublic%2Ffeatured.png\" align=\"left\" alt=\"banner\" width=\"65\">\n", 
            "cell_type": "markdown", 
            "metadata": {}
        }, 
        {
            "source": "This notebook shows how to log the payload for the model deployed on Azure using AI OpenScale python client.", 
            "cell_type": "markdown", 
            "metadata": {}
        }, 
        {
            "source": "## 1. Setup", 
            "cell_type": "markdown", 
            "metadata": {}
        }, 
        {
            "source": "### 1.1 Installation and authentication", 
            "cell_type": "markdown", 
            "metadata": {}
        }, 
        {
            "execution_count": null, 
            "cell_type": "code", 
            "metadata": {}, 
            "outputs": [], 
            "source": "!pip install --upgrade ibm-ai-openscale"
        }, 
        {
            "source": "Import and initiate.", 
            "cell_type": "markdown", 
            "metadata": {}
        }, 
        {
            "execution_count": 2, 
            "cell_type": "code", 
            "metadata": {}, 
            "outputs": [], 
            "source": "from ibm_ai_openscale import APIClient\nfrom ibm_ai_openscale.engines import *"
        }, 
        {
            "source": "### ACTION: Get `data_mart_id` (GUID) and `apikey`\n\nHow to get api key using bluemix console:\n```\nbx login --sso\nbx iam api-key-create 'my_key'\n```\n\nHow to get DATA_MART_ID (this is AI OpenScale instance GUID)\n```\nbx resource service-instance \u2018instance_name\u2019\n```\n", 
            "cell_type": "markdown", 
            "metadata": {}
        }, 
        {
            "execution_count": null, 
            "cell_type": "code", 
            "metadata": {}, 
            "outputs": [], 
            "source": "aios_credentials = {\n  \"data_mart_id\": \"***\",\n  \"url\": \"https://api.aiopenscale.cloud.ibm.com\",\n  \"apikey\": \"***\"\n}"
        }, 
        {
            "execution_count": 14, 
            "cell_type": "code", 
            "metadata": {}, 
            "outputs": [], 
            "source": "# The code was removed by Watson Studio for sharing."
        }, 
        {
            "execution_count": 15, 
            "cell_type": "code", 
            "metadata": {}, 
            "outputs": [], 
            "source": "client = APIClient(aios_credentials)"
        }, 
        {
            "execution_count": 16, 
            "cell_type": "code", 
            "metadata": {}, 
            "outputs": [
                {
                    "execution_count": 16, 
                    "metadata": {}, 
                    "data": {
                        "text/plain": "'1.0.1'"
                    }, 
                    "output_type": "execute_result"
                }
            ], 
            "source": "client.version"
        }, 
        {
            "execution_count": null, 
            "cell_type": "code", 
            "metadata": {}, 
            "outputs": [], 
            "source": "postgres_credentials = {\n    \"db_type\": \"postgresql\",\n    \"uri_cli_1\": \"xxx\",\n    \"maps\": [],\n    \"instance_administration_api\": {\n        \"instance_id\": \"xxx\",\n        \"root\": \"xxx\",\n        \"deployment_id\": \"xxx\"\n    },\n    \"name\": \"xxx\",\n    \"uri_cli\": \"xxx\",\n    \"uri_direct_1\": \"xxx\",\n    \"ca_certificate_base64\": \"xxx\",\n    \"deployment_id\": \"xxx\",\n    \"uri\": \"xxx\"\n}"
        }, 
        {
            "execution_count": 19, 
            "cell_type": "code", 
            "metadata": {}, 
            "outputs": [], 
            "source": "# The code was removed by Watson Studio for sharing."
        }, 
        {
            "source": "Create schema for data mart.", 
            "cell_type": "markdown", 
            "metadata": {}
        }, 
        {
            "execution_count": 18, 
            "cell_type": "code", 
            "metadata": {}, 
            "outputs": [], 
            "source": "schemaName = 'azure_model_data'"
        }, 
        {
            "execution_count": 28, 
            "cell_type": "code", 
            "metadata": {}, 
            "outputs": [], 
            "source": "import psycopg2\n\n\nhostname = postgres_credentials['uri'].split('@')[1].split(':')[0]\nport = postgres_credentials['uri'].split('@')[1].split(':')[1].split('/')[0]\nuser = postgres_credentials['uri'].split('@')[0].split('//')[1].split(':')[0]\npassword = postgres_credentials['uri'].split('@')[0].split('//')[1].split(':')[1]\ndbname = 'compose'\n\nconn_string = \"host=\" + hostname + \" port=\" + port + \" dbname=\" + dbname + \" user=\" + user + \" password=\" + password\nconn = psycopg2.connect(conn_string)\nconn.autocommit = True\ncursor = conn.cursor()\ntry:\n    query = \"drop schema \" + schemaName + \" cascade\"\n    cursor.execute(query)\nexcept:\n    pass\nfinally:    \n    try:\n        query = \"create schema \" + schemaName\n        cursor.execute(query)\n    finally:    \n        conn.close()"
        }, 
        {
            "source": "### 1.2 DataMart setup", 
            "cell_type": "markdown", 
            "metadata": {}
        }, 
        {
            "execution_count": 29, 
            "cell_type": "code", 
            "metadata": {}, 
            "outputs": [], 
            "source": "client.data_mart.setup(postgres_credentials=postgres_credentials, schema=schemaName)"
        }, 
        {
            "execution_count": 30, 
            "cell_type": "code", 
            "metadata": {}, 
            "outputs": [], 
            "source": "data_mart_details = client.data_mart.get_details()"
        }, 
        {
            "source": "## 2. Bind machine learning engines", 
            "cell_type": "markdown", 
            "metadata": {}
        }, 
        {
            "source": "### 2.1 Bind Microsoft Azure as `GENERIC` engine\n**NOTE:** GENERIC means that this is just metada (abstraction) - there is no direct integration with that service", 
            "cell_type": "markdown", 
            "metadata": {}
        }, 
        {
            "execution_count": 32, 
            "cell_type": "code", 
            "metadata": {}, 
            "outputs": [], 
            "source": "binding_uid = client.data_mart.bindings.add('My Azure', GenericMachineLearningInstance())"
        }, 
        {
            "execution_count": 33, 
            "cell_type": "code", 
            "metadata": {}, 
            "outputs": [], 
            "source": "bindings_details = client.data_mart.bindings.get_details()"
        }, 
        {
            "execution_count": 34, 
            "cell_type": "code", 
            "metadata": {}, 
            "outputs": [
                {
                    "output_type": "display_data", 
                    "data": {
                        "text/html": "<HTML>\n        <body>\n            <h3>Service bindings</h3>\n            <table style='border: 1px solid #dddddd; font-family: Courier'>\n                <th style='border: 1px solid #dddddd'>uid</th><th style='border: 1px solid #dddddd'>name</th><th style='border: 1px solid #dddddd'>service_type</th><th style='border: 1px solid #dddddd'>created</th>\n                <tr><td style='border: 1px solid #dddddd'>generic_instance_id_a9dac2de-2c5d-4898-9527-c58d6eee89d5</td><td style='border: 1px solid #dddddd'>My Azure</td><td style='border: 1px solid #dddddd'>generic_machine_learning</td><td style='border: 1px solid #dddddd'>2018-09-19T12:37:16.796Z</td></tr>\n            </table>\n        </body>\n        </HTML>", 
                        "text/plain": "<IPython.core.display.HTML object>"
                    }, 
                    "metadata": {}
                }
            ], 
            "source": "client.data_mart.bindings.list()"
        }, 
        {
            "source": "## 3. Subscriptions", 
            "cell_type": "markdown", 
            "metadata": {}
        }, 
        {
            "source": "### 3.1 Add `GENERIC` subscriptions", 
            "cell_type": "markdown", 
            "metadata": {}
        }, 
        {
            "execution_count": 35, 
            "cell_type": "code", 
            "metadata": {}, 
            "outputs": [
                {
                    "output_type": "stream", 
                    "name": "stdout", 
                    "text": "Creating default deployment for generic asset with uid: generic_deployment_uid_00a19490-7114-4f01-8f70-5c03e1be4d18\n"
                }
            ], 
            "source": "subscription = client.data_mart.subscriptions.add(GenericAsset(name='Azure deployment of product line sample model', binding_uid=binding_uid))"
        }, 
        {
            "source": "#### Get subscriptions list", 
            "cell_type": "markdown", 
            "metadata": {}
        }, 
        {
            "execution_count": 36, 
            "cell_type": "code", 
            "metadata": {}, 
            "outputs": [], 
            "source": "subscriptions = client.data_mart.subscriptions.get_details()"
        }, 
        {
            "execution_count": 37, 
            "cell_type": "code", 
            "metadata": {}, 
            "outputs": [
                {
                    "output_type": "stream", 
                    "name": "stdout", 
                    "text": "['generic_uid_17fa0ff5-abe9-47e4-ab81-b9a9007669e7']\n"
                }
            ], 
            "source": "subscriptions_uids = client.data_mart.subscriptions.get_uids()\nprint(subscriptions_uids)"
        }, 
        {
            "source": "#### List subscriptions", 
            "cell_type": "markdown", 
            "metadata": {}
        }, 
        {
            "execution_count": 38, 
            "cell_type": "code", 
            "metadata": {}, 
            "outputs": [
                {
                    "output_type": "display_data", 
                    "data": {
                        "text/html": "<HTML>\n        <body>\n            <h3>Subscriptions</h3>\n            <table style='border: 1px solid #dddddd; font-family: Courier'>\n                <th style='border: 1px solid #dddddd'>uid</th><th style='border: 1px solid #dddddd'>name</th><th style='border: 1px solid #dddddd'>type</th><th style='border: 1px solid #dddddd'>binding_uid</th><th style='border: 1px solid #dddddd'>source_uid</th><th style='border: 1px solid #dddddd'>created</th>\n                <tr><td style='border: 1px solid #dddddd'>generic_uid_17fa0ff5-abe9-47e4-ab81-b9a9007669e7</td><td style='border: 1px solid #dddddd'>Azure deployment of product line sample model</td><td style='border: 1px solid #dddddd'>model</td><td style='border: 1px solid #dddddd'>generic_instance_id_a9dac2de-2c5d-4898-9527-c58d6eee89d5</td><td style='border: 1px solid #dddddd'>generic_uid_17fa0ff5-abe9-47e4-ab81-b9a9007669e7</td><td style='border: 1px solid #dddddd'>2018-09-19T12:37:40Z</td></tr>\n            </table>\n        </body>\n        </HTML>", 
                        "text/plain": "<IPython.core.display.HTML object>"
                    }, 
                    "metadata": {}
                }
            ], 
            "source": "client.data_mart.subscriptions.list()"
        }, 
        {
            "source": "### 3.2 Configure subscription", 
            "cell_type": "markdown", 
            "metadata": {}
        }, 
        {
            "source": "#### Enable payload logging in subscription", 
            "cell_type": "markdown", 
            "metadata": {}
        }, 
        {
            "execution_count": 39, 
            "cell_type": "code", 
            "metadata": {}, 
            "outputs": [], 
            "source": "subscription.payload_logging.enable()"
        }, 
        {
            "source": "#### Get details of enabled payload logging", 
            "cell_type": "markdown", 
            "metadata": {}
        }, 
        {
            "execution_count": 40, 
            "cell_type": "code", 
            "metadata": {}, 
            "outputs": [
                {
                    "execution_count": 40, 
                    "metadata": {}, 
                    "data": {
                        "text/plain": "{'enabled': True,\n 'parameters': {'dynamic_schema_update': True,\n  'table_name': 'azure_model_data.Payload_generic_uid_17fa0ff5-abe9-47e4-ab81-b9a9007669e7'}}"
                    }, 
                    "output_type": "execute_result"
                }
            ], 
            "source": "subscription.payload_logging.get_details()"
        }, 
        {
            "source": "# 4. Scoring and payload logging", 
            "cell_type": "markdown", 
            "metadata": {}
        }, 
        {
            "source": "## 4.1 Score the model (Microsoft Azure)", 
            "cell_type": "markdown", 
            "metadata": {}
        }, 
        {
            "execution_count": 41, 
            "cell_type": "code", 
            "metadata": {}, 
            "outputs": [
                {
                    "output_type": "stream", 
                    "name": "stdout", 
                    "text": "{\n  \"Scored Probabilities for Class \\\"Mountaineering Equipment\\\"\": \"0.0573424553534177\",\n  \"Scored Labels\": \"Personal Accessories\",\n  \"PROFESSION\": \"Professional\",\n  \"PRODUCT_LINE\": \"Personal Accessories\",\n  \"MARITAL_STATUS\": \"Single\",\n  \"GENDER\": \"F\",\n  \"Scored Probabilities for Class \\\"Golf Equipment\\\"\": \"0\",\n  \"Scored Probabilities for Class \\\"Outdoor Protection\\\"\": \"0\",\n  \"Scored Probabilities for Class \\\"Camping Equipment\\\"\": \"0\",\n  \"AGE\": \"27\",\n  \"Scored Probabilities for Class \\\"Personal Accessories\\\"\": \"0.942657544646582\"\n}\n"
                }
            ], 
            "source": "import urllib.request\nimport json\n\ndata = {\n        \"Inputs\": {\n                \"input1\":\n                [\n                    {\n                            'GENDER': \"F\",   \n                            'AGE': \"27\",   \n                            'MARITAL_STATUS': \"Single\",   \n                            'PROFESSION': \"Professional\",   \n                            'PRODUCT_LINE': \"Personal Accessories\",   \n                    }\n                ],\n        },\n    \"GlobalParameters\":  {\n    }\n}\n\nbody = str.encode(json.dumps(data))\n\nurl = 'https://ussouthcentral.services.azureml.net/workspaces/1e5142d3a8ba4b51ac24bee7c65914a1/services/6bb8104a38b8492d9b71cb276c534bfd/execute?api-version=2.0&format=swagger'\napi_key = 'gxGozX4Sw/Vx/DRbnthKzYTzD8QbgJX3TVTVTe54a9wAmudwqmOGXzi0SInzriUJHgvF2csDh7tsI7dLBeEuIQ==' # Replace this with the API key for the web service\nheaders = {'Content-Type':'application/json', 'Authorization':('Bearer '+ api_key)}\n\nreq = urllib.request.Request(url, body, headers)\nresponse = urllib.request.urlopen(req)\n\nresult = response.read()\nresult = json.loads(result.decode())['Results']['output1'][0]\nprint(json.dumps(result, indent=2))"
        }, 
        {
            "source": "## 4.2 Convert the request and response to the form supported by OpenScale.", 
            "cell_type": "markdown", 
            "metadata": {}
        }, 
        {
            "execution_count": 42, 
            "cell_type": "code", 
            "metadata": {}, 
            "outputs": [], 
            "source": "input_data = data['Inputs']['input1'][0]\n\nrequest = {\n    'fields': list(input_data.keys()),\n    'values': [[input_data[i] for i in list(input_data.keys())]]\n    \n}\n\nresponse = {\n    'fields': list(result.keys()),\n    'values' : [[result[i] for i in list(result.keys())]]\n}"
        }, 
        {
            "execution_count": 43, 
            "cell_type": "code", 
            "metadata": {}, 
            "outputs": [
                {
                    "output_type": "stream", 
                    "name": "stdout", 
                    "text": "{'values': [['F', 'Single', 'Professional', 'Personal Accessories', '27']], 'fields': ['GENDER', 'MARITAL_STATUS', 'PROFESSION', 'PRODUCT_LINE', 'AGE']}\n"
                }
            ], 
            "source": "print(str(request))"
        }, 
        {
            "source": "## 4.3 Store the request and response in payload logging table", 
            "cell_type": "markdown", 
            "metadata": {}
        }, 
        {
            "source": "### Python client", 
            "cell_type": "markdown", 
            "metadata": {}
        }, 
        {
            "execution_count": 44, 
            "cell_type": "code", 
            "metadata": {}, 
            "outputs": [], 
            "source": "subscription.payload_logging.store(request=request, response=response)"
        }, 
        {
            "source": "### REST API", 
            "cell_type": "markdown", 
            "metadata": {}
        }, 
        {
            "source": "Get the token first.", 
            "cell_type": "markdown", 
            "metadata": {}
        }, 
        {
            "execution_count": 64, 
            "cell_type": "code", 
            "metadata": {}, 
            "outputs": [], 
            "source": "token_endpoint = \"https://iam.bluemix.net/identity/token\"\nheaders = {\n    \"Content-Type\": \"application/x-www-form-urlencoded\",\n    \"Accept\": \"application/json\"\n}\n\ndata = {\n    \"grant_type\":\"urn:ibm:params:oauth:grant-type:apikey\",\n    \"apikey\":aios_credentials[\"apikey\"]\n}\n\nreq = requests.post(token_endpoint, data=data, headers=headers)\ntoken = req.json()['access_token']"
        }, 
        {
            "execution_count": 67, 
            "cell_type": "code", 
            "metadata": {}, 
            "outputs": [
                {
                    "output_type": "stream", 
                    "name": "stdout", 
                    "text": "Request OK: True\n"
                }
            ], 
            "source": "import requests, uuid\n\nPAYLOAD_STORING_HREF_PATTERN = '{}/v1/data_marts/{}/scoring_payloads'\nendpoint = PAYLOAD_STORING_HREF_PATTERN.format(aios_credentials['url'], aios_credentials['data_mart_id'])\n\npayload = [{\n    'binding_id': binding_uid, \n    'deployment_id': subscription.get_details()['entity']['deployments'][0]['deployment_id'], \n    'subscription_id': subscription.uid, \n    'scoring_id': str(uuid.uuid4()), \n    'response': response,\n    'request': request\n}]\n\n\nheaders = {\"Authorization\": \"Bearer \" + token}\n      \nreq_response = requests.post(endpoint, json=payload, headers = headers)\n\nprint(\"Request OK: \" + str(req_response.ok))"
        }, 
        {
            "source": "# 5. Get the logged data", 
            "cell_type": "markdown", 
            "metadata": {}
        }, 
        {
            "source": "#### Print schema of payload_logging table", 
            "cell_type": "markdown", 
            "metadata": {}
        }, 
        {
            "execution_count": 68, 
            "cell_type": "code", 
            "metadata": {}, 
            "outputs": [
                {
                    "output_type": "display_data", 
                    "data": {
                        "text/html": "<HTML>\n        <body>\n            <h3>Schema of Payload_generic_uid_17fa0ff5-abe9-47e4-ab81-b9a9007669e7</h3>\n            <table style='border: 1px solid #dddddd; font-family: Courier'>\n                <th style='border: 1px solid #dddddd'>name</th><th style='border: 1px solid #dddddd'>type</th><th style='border: 1px solid #dddddd'>size</th><th style='border: 1px solid #dddddd'>precision</th><th style='border: 1px solid #dddddd'>scale</th><th style='border: 1px solid #dddddd'>nullable</th>\n                <tr><td style='border: 1px solid #dddddd'>scoring_id</td><td style='border: 1px solid #dddddd'>text</td><td style='border: 1px solid #dddddd'>-</td><td style='border: 1px solid #dddddd'>-</td><td style='border: 1px solid #dddddd'>-</td><td style='border: 1px solid #dddddd'>N</td></tr><tr><td style='border: 1px solid #dddddd'>scoring_timestamp</td><td style='border: 1px solid #dddddd'>timestamp</td><td style='border: 1px solid #dddddd'>8</td><td style='border: 1px solid #dddddd'>-</td><td style='border: 1px solid #dddddd'>-</td><td style='border: 1px solid #dddddd'>N</td></tr><tr><td style='border: 1px solid #dddddd'>deployment_id</td><td style='border: 1px solid #dddddd'>text</td><td style='border: 1px solid #dddddd'>-</td><td style='border: 1px solid #dddddd'>-</td><td style='border: 1px solid #dddddd'>-</td><td style='border: 1px solid #dddddd'>N</td></tr><tr><td style='border: 1px solid #dddddd'>asset_revision</td><td style='border: 1px solid #dddddd'>text</td><td style='border: 1px solid #dddddd'>-</td><td style='border: 1px solid #dddddd'>-</td><td style='border: 1px solid #dddddd'>-</td><td style='border: 1px solid #dddddd'>N</td></tr><tr><td style='border: 1px solid #dddddd'>GENDER</td><td style='border: 1px solid #dddddd'>text</td><td style='border: 1px solid #dddddd'>-</td><td style='border: 1px solid #dddddd'>-</td><td style='border: 1px solid #dddddd'>-</td><td style='border: 1px solid #dddddd'>N</td></tr><tr><td style='border: 1px solid #dddddd'>MARITAL_STATUS</td><td style='border: 1px solid #dddddd'>text</td><td style='border: 1px solid #dddddd'>-</td><td style='border: 1px solid #dddddd'>-</td><td style='border: 1px solid #dddddd'>-</td><td style='border: 1px solid #dddddd'>N</td></tr><tr><td style='border: 1px solid #dddddd'>PROFESSION</td><td style='border: 1px solid #dddddd'>text</td><td style='border: 1px solid #dddddd'>-</td><td style='border: 1px solid #dddddd'>-</td><td style='border: 1px solid #dddddd'>-</td><td style='border: 1px solid #dddddd'>N</td></tr><tr><td style='border: 1px solid #dddddd'>PRODUCT_LINE</td><td style='border: 1px solid #dddddd'>text</td><td style='border: 1px solid #dddddd'>-</td><td style='border: 1px solid #dddddd'>-</td><td style='border: 1px solid #dddddd'>-</td><td style='border: 1px solid #dddddd'>N</td></tr><tr><td style='border: 1px solid #dddddd'>AGE</td><td style='border: 1px solid #dddddd'>text</td><td style='border: 1px solid #dddddd'>-</td><td style='border: 1px solid #dddddd'>-</td><td style='border: 1px solid #dddddd'>-</td><td style='border: 1px solid #dddddd'>N</td></tr><tr><td style='border: 1px solid #dddddd'>Scored Probabilities for Class \"Mountaineering Equipment\"</td><td style='border: 1px solid #dddddd'>text</td><td style='border: 1px solid #dddddd'>-</td><td style='border: 1px solid #dddddd'>-</td><td style='border: 1px solid #dddddd'>-</td><td style='border: 1px solid #dddddd'>N</td></tr><tr><td style='border: 1px solid #dddddd'>Scored Labels</td><td style='border: 1px solid #dddddd'>text</td><td style='border: 1px solid #dddddd'>-</td><td style='border: 1px solid #dddddd'>-</td><td style='border: 1px solid #dddddd'>-</td><td style='border: 1px solid #dddddd'>N</td></tr><tr><td style='border: 1px solid #dddddd'>Scored Probabilities for Class \"Golf Equipment\"</td><td style='border: 1px solid #dddddd'>text</td><td style='border: 1px solid #dddddd'>-</td><td style='border: 1px solid #dddddd'>-</td><td style='border: 1px solid #dddddd'>-</td><td style='border: 1px solid #dddddd'>N</td></tr><tr><td style='border: 1px solid #dddddd'>Scored Probabilities for Class \"Outdoor Protection\"</td><td style='border: 1px solid #dddddd'>text</td><td style='border: 1px solid #dddddd'>-</td><td style='border: 1px solid #dddddd'>-</td><td style='border: 1px solid #dddddd'>-</td><td style='border: 1px solid #dddddd'>N</td></tr><tr><td style='border: 1px solid #dddddd'>Scored Probabilities for Class \"Camping Equipment\"</td><td style='border: 1px solid #dddddd'>text</td><td style='border: 1px solid #dddddd'>-</td><td style='border: 1px solid #dddddd'>-</td><td style='border: 1px solid #dddddd'>-</td><td style='border: 1px solid #dddddd'>N</td></tr><tr><td style='border: 1px solid #dddddd'>Scored Probabilities for Class \"Personal Accessories\"</td><td style='border: 1px solid #dddddd'>text</td><td style='border: 1px solid #dddddd'>-</td><td style='border: 1px solid #dddddd'>-</td><td style='border: 1px solid #dddddd'>-</td><td style='border: 1px solid #dddddd'>N</td></tr>\n            </table>\n        </body>\n        </HTML>", 
                        "text/plain": "<IPython.core.display.HTML object>"
                    }, 
                    "metadata": {}
                }
            ], 
            "source": "subscription.payload_logging.print_table_schema()"
        }, 
        {
            "source": "#### Show (preview) the table", 
            "cell_type": "markdown", 
            "metadata": {}
        }, 
        {
            "execution_count": 69, 
            "cell_type": "code", 
            "metadata": {}, 
            "outputs": [
                {
                    "output_type": "display_data", 
                    "data": {
                        "text/html": "<HTML>\n        <body>\n            <h3>Payload_generic_uid_17fa0ff5-abe9-47e4-ab81-b9a9007669e7</h3>\n            <table style='border: 1px solid #dddddd; font-family: Courier'>\n                <th style='border: 1px solid #dddddd'>scoring_id</th><th style='border: 1px solid #dddddd'>scoring_timestamp</th><th style='border: 1px solid #dddddd'>deployment_id</th><th style='border: 1px solid #dddddd'>asset_revision</th><th style='border: 1px solid #dddddd'>GENDER</th><th style='border: 1px solid #dddddd'>MARITAL_STATUS</th><th style='border: 1px solid #dddddd'>PROFESSION</th><th style='border: 1px solid #dddddd'>PRODUCT_LINE</th><th style='border: 1px solid #dddddd'>AGE</th><th style='border: 1px solid #dddddd'>Scored Probabilities for Class \"Mountaineering Equipment\"</th><th style='border: 1px solid #dddddd'>Scored Labels</th><th style='border: 1px solid #dddddd'>Scored Probabilities for Class \"Golf Equipment\"</th><th style='border: 1px solid #dddddd'>Scored Probabilities for Class \"Outdoor Protection\"</th><th style='border: 1px solid #dddddd'>Scored Probabilities for Class \"Camping Equipment\"</th><th style='border: 1px solid #dddddd'>Scored Probabilities for Class \"Personal Accessories\"</th>\n                <tr><td style='border: 1px solid #dddddd'>82c72435-590d-4d2e-baa1-78a08f16300f-1</td><td style='border: 1px solid #dddddd'>2018-09-19 12:39:54.732069</td><td style='border: 1px solid #dddddd'>generic_deployment_uid_00a19490-7114-4f01-8f70-5c03e1be4d18</td><td style='border: 1px solid #dddddd'>123456</td><td style='border: 1px solid #dddddd'>F</td><td style='border: 1px solid #dddddd'>Single</td><td style='border: 1px solid #dddddd'>Professional</td><td style='border: 1px solid #dddddd'>Personal Accessories</td><td style='border: 1px solid #dddddd'>27</td><td style='border: 1px solid #dddddd'>0.0573424553534177</td><td style='border: 1px solid #dddddd'>Personal Accessories</td><td style='border: 1px solid #dddddd'>0</td><td style='border: 1px solid #dddddd'>0</td><td style='border: 1px solid #dddddd'>0</td><td style='border: 1px solid #dddddd'>0.942657544646582</td></tr><tr><td style='border: 1px solid #dddddd'>75590698-aeec-43cb-b18b-605447f319c8-1</td><td style='border: 1px solid #dddddd'>2018-09-19 13:01:14.803000</td><td style='border: 1px solid #dddddd'>generic_deployment_uid_00a19490-7114-4f01-8f70-5c03e1be4d18</td><td style='border: 1px solid #dddddd'>None</td><td style='border: 1px solid #dddddd'>F</td><td style='border: 1px solid #dddddd'>Single</td><td style='border: 1px solid #dddddd'>Professional</td><td style='border: 1px solid #dddddd'>Personal Accessories</td><td style='border: 1px solid #dddddd'>27</td><td style='border: 1px solid #dddddd'>0.0573424553534177</td><td style='border: 1px solid #dddddd'>Personal Accessories</td><td style='border: 1px solid #dddddd'>0</td><td style='border: 1px solid #dddddd'>0</td><td style='border: 1px solid #dddddd'>0</td><td style='border: 1px solid #dddddd'>0.942657544646582</td></tr><tr><td style='border: 1px solid #dddddd'>778b2531-76f3-4aef-b5d8-3f037fa2a559-1</td><td style='border: 1px solid #dddddd'>2018-09-19 13:01:23.849000</td><td style='border: 1px solid #dddddd'>generic_deployment_uid_00a19490-7114-4f01-8f70-5c03e1be4d18</td><td style='border: 1px solid #dddddd'>None</td><td style='border: 1px solid #dddddd'>F</td><td style='border: 1px solid #dddddd'>Single</td><td style='border: 1px solid #dddddd'>Professional</td><td style='border: 1px solid #dddddd'>Personal Accessories</td><td style='border: 1px solid #dddddd'>27</td><td style='border: 1px solid #dddddd'>0.0573424553534177</td><td style='border: 1px solid #dddddd'>Personal Accessories</td><td style='border: 1px solid #dddddd'>0</td><td style='border: 1px solid #dddddd'>0</td><td style='border: 1px solid #dddddd'>0</td><td style='border: 1px solid #dddddd'>0.942657544646582</td></tr><tr><td style='border: 1px solid #dddddd'>ec513f1d-d4a2-4af6-aa06-b1c08e430d97-1</td><td style='border: 1px solid #dddddd'>2018-09-19 13:01:32.650000</td><td style='border: 1px solid #dddddd'>generic_deployment_uid_00a19490-7114-4f01-8f70-5c03e1be4d18</td><td style='border: 1px solid #dddddd'>None</td><td style='border: 1px solid #dddddd'>F</td><td style='border: 1px solid #dddddd'>Single</td><td style='border: 1px solid #dddddd'>Professional</td><td style='border: 1px solid #dddddd'>Personal Accessories</td><td style='border: 1px solid #dddddd'>27</td><td style='border: 1px solid #dddddd'>0.0573424553534177</td><td style='border: 1px solid #dddddd'>Personal Accessories</td><td style='border: 1px solid #dddddd'>0</td><td style='border: 1px solid #dddddd'>0</td><td style='border: 1px solid #dddddd'>0</td><td style='border: 1px solid #dddddd'>0.942657544646582</td></tr>\n            </table>\n        </body>\n        </HTML>", 
                        "text/plain": "<IPython.core.display.HTML object>"
                    }, 
                    "metadata": {}
                }
            ], 
            "source": "subscription.payload_logging.show_table()"
        }, 
        {
            "source": "#### Return the table content as pandas dataframe", 
            "cell_type": "markdown", 
            "metadata": {}
        }, 
        {
            "execution_count": 70, 
            "cell_type": "code", 
            "metadata": {}, 
            "outputs": [
                {
                    "execution_count": 70, 
                    "metadata": {}, 
                    "data": {
                        "text/html": "<div>\n<style scoped>\n    .dataframe tbody tr th:only-of-type {\n        vertical-align: middle;\n    }\n\n    .dataframe tbody tr th {\n        vertical-align: top;\n    }\n\n    .dataframe thead th {\n        text-align: right;\n    }\n</style>\n<table border=\"1\" class=\"dataframe\">\n  <thead>\n    <tr style=\"text-align: right;\">\n      <th></th>\n      <th>scoring_id</th>\n      <th>scoring_timestamp</th>\n      <th>deployment_id</th>\n      <th>asset_revision</th>\n      <th>GENDER</th>\n      <th>MARITAL_STATUS</th>\n      <th>PROFESSION</th>\n      <th>PRODUCT_LINE</th>\n      <th>AGE</th>\n      <th>Scored Probabilities for Class \"Mountaineering Equipment\"</th>\n      <th>Scored Labels</th>\n      <th>Scored Probabilities for Class \"Golf Equipment\"</th>\n      <th>Scored Probabilities for Class \"Outdoor Protection\"</th>\n      <th>Scored Probabilities for Class \"Camping Equipment\"</th>\n      <th>Scored Probabilities for Class \"Personal Accessories\"</th>\n    </tr>\n  </thead>\n  <tbody>\n    <tr>\n      <th>0</th>\n      <td>82c72435-590d-4d2e-baa1-78a08f16300f-1</td>\n      <td>2018-09-19 12:39:54.732069</td>\n      <td>generic_deployment_uid_00a19490-7114-4f01-8f70...</td>\n      <td>123456</td>\n      <td>F</td>\n      <td>Single</td>\n      <td>Professional</td>\n      <td>Personal Accessories</td>\n      <td>27</td>\n      <td>0.0573424553534177</td>\n      <td>Personal Accessories</td>\n      <td>0</td>\n      <td>0</td>\n      <td>0</td>\n      <td>0.942657544646582</td>\n    </tr>\n    <tr>\n      <th>1</th>\n      <td>75590698-aeec-43cb-b18b-605447f319c8-1</td>\n      <td>2018-09-19 13:01:14.803000</td>\n      <td>generic_deployment_uid_00a19490-7114-4f01-8f70...</td>\n      <td>None</td>\n      <td>F</td>\n      <td>Single</td>\n      <td>Professional</td>\n      <td>Personal Accessories</td>\n      <td>27</td>\n      <td>0.0573424553534177</td>\n      <td>Personal Accessories</td>\n      <td>0</td>\n      <td>0</td>\n      <td>0</td>\n      <td>0.942657544646582</td>\n    </tr>\n    <tr>\n      <th>2</th>\n      <td>778b2531-76f3-4aef-b5d8-3f037fa2a559-1</td>\n      <td>2018-09-19 13:01:23.849000</td>\n      <td>generic_deployment_uid_00a19490-7114-4f01-8f70...</td>\n      <td>None</td>\n      <td>F</td>\n      <td>Single</td>\n      <td>Professional</td>\n      <td>Personal Accessories</td>\n      <td>27</td>\n      <td>0.0573424553534177</td>\n      <td>Personal Accessories</td>\n      <td>0</td>\n      <td>0</td>\n      <td>0</td>\n      <td>0.942657544646582</td>\n    </tr>\n    <tr>\n      <th>3</th>\n      <td>ec513f1d-d4a2-4af6-aa06-b1c08e430d97-1</td>\n      <td>2018-09-19 13:01:32.650000</td>\n      <td>generic_deployment_uid_00a19490-7114-4f01-8f70...</td>\n      <td>None</td>\n      <td>F</td>\n      <td>Single</td>\n      <td>Professional</td>\n      <td>Personal Accessories</td>\n      <td>27</td>\n      <td>0.0573424553534177</td>\n      <td>Personal Accessories</td>\n      <td>0</td>\n      <td>0</td>\n      <td>0</td>\n      <td>0.942657544646582</td>\n    </tr>\n  </tbody>\n</table>\n</div>", 
                        "text/plain": "                               scoring_id          scoring_timestamp  \\\n0  82c72435-590d-4d2e-baa1-78a08f16300f-1 2018-09-19 12:39:54.732069   \n1  75590698-aeec-43cb-b18b-605447f319c8-1 2018-09-19 13:01:14.803000   \n2  778b2531-76f3-4aef-b5d8-3f037fa2a559-1 2018-09-19 13:01:23.849000   \n3  ec513f1d-d4a2-4af6-aa06-b1c08e430d97-1 2018-09-19 13:01:32.650000   \n\n                                       deployment_id asset_revision GENDER  \\\n0  generic_deployment_uid_00a19490-7114-4f01-8f70...         123456      F   \n1  generic_deployment_uid_00a19490-7114-4f01-8f70...           None      F   \n2  generic_deployment_uid_00a19490-7114-4f01-8f70...           None      F   \n3  generic_deployment_uid_00a19490-7114-4f01-8f70...           None      F   \n\n  MARITAL_STATUS    PROFESSION          PRODUCT_LINE AGE  \\\n0         Single  Professional  Personal Accessories  27   \n1         Single  Professional  Personal Accessories  27   \n2         Single  Professional  Personal Accessories  27   \n3         Single  Professional  Personal Accessories  27   \n\n  Scored Probabilities for Class \"Mountaineering Equipment\"  \\\n0                                 0.0573424553534177          \n1                                 0.0573424553534177          \n2                                 0.0573424553534177          \n3                                 0.0573424553534177          \n\n          Scored Labels Scored Probabilities for Class \"Golf Equipment\"  \\\n0  Personal Accessories                                               0   \n1  Personal Accessories                                               0   \n2  Personal Accessories                                               0   \n3  Personal Accessories                                               0   \n\n  Scored Probabilities for Class \"Outdoor Protection\"  \\\n0                                                  0    \n1                                                  0    \n2                                                  0    \n3                                                  0    \n\n  Scored Probabilities for Class \"Camping Equipment\"  \\\n0                                                  0   \n1                                                  0   \n2                                                  0   \n3                                                  0   \n\n  Scored Probabilities for Class \"Personal Accessories\"  \n0                                  0.942657544646582     \n1                                  0.942657544646582     \n2                                  0.942657544646582     \n3                                  0.942657544646582     "
                    }, 
                    "output_type": "execute_result"
                }
            ], 
            "source": "pandas_df = subscription.payload_logging.get_table_content(format='pandas')\npandas_df"
        }, 
        {
            "source": "---", 
            "cell_type": "markdown", 
            "metadata": {}
        }, 
        {
            "source": "---", 
            "cell_type": "markdown", 
            "metadata": {}
        }
    ], 
    "metadata": {
        "kernelspec": {
            "display_name": "Python 3.5", 
            "name": "python3", 
            "language": "python"
        }, 
        "language_info": {
            "mimetype": "text/x-python", 
            "nbconvert_exporter": "python", 
            "version": "3.5.5", 
            "name": "python", 
            "file_extension": ".py", 
            "pygments_lexer": "ipython3", 
            "codemirror_mode": {
                "version": 3, 
                "name": "ipython"
            }
        }
    }, 
    "nbformat": 4
}